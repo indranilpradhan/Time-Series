{
 "cells": [
  {
   "cell_type": "markdown",
   "metadata": {},
   "source": [
    "# Question 4"
   ]
  },
  {
   "cell_type": "markdown",
   "metadata": {},
   "source": [
    "# you are expected to perform regression over the dataset of global_active_power values. You are supposed to take the active power values in the past one hour and predict the next active power value.\n"
   ]
  },
  {
   "cell_type": "code",
   "execution_count": 1,
   "metadata": {
    "colab": {},
    "colab_type": "code",
    "id": "jW7Earf5xJL6"
   },
   "outputs": [
    {
     "name": "stderr",
     "output_type": "stream",
     "text": [
      "Using TensorFlow backend.\n"
     ]
    }
   ],
   "source": [
    "import os\n",
    "import numpy as np\n",
    "import matplotlib.pyplot as plt\n",
    "import matplotlib as mpl\n",
    "import pandas as pd\n",
    "from sklearn.linear_model import LinearRegression\n",
    "from sklearn.metrics import r2_score\n",
    "from sklearn.metrics import mean_squared_error\n",
    "from math import sqrt\n",
    "from keras.models import Sequential\n",
    "from keras.layers import Dense\n",
    "\n",
    "from keras.optimizers import SGD\n",
    "from sklearn.preprocessing import MinMaxScaler\n",
    "from tqdm import tqdm"
   ]
  },
  {
   "cell_type": "markdown",
   "metadata": {},
   "source": [
    "# Loading the dataset"
   ]
  },
  {
   "cell_type": "code",
   "execution_count": 2,
   "metadata": {
    "colab": {},
    "colab_type": "code",
    "id": "URs6SjpyxJL-"
   },
   "outputs": [],
   "source": [
    "whole_df = pd.read_csv('G:\\second_sem\\SMAI\\Assignment_3\\q4\\dataset\\household_power_consumption.txt', sep=';',parse_dates={'datetime' : ['Date', 'Time']}, infer_datetime_format=True, na_values=['nan','?'])"
   ]
  },
  {
   "cell_type": "code",
   "execution_count": 3,
   "metadata": {
    "colab": {},
    "colab_type": "code",
    "id": "McCFxnkhxJMB"
   },
   "outputs": [],
   "source": [
    "t_df = whole_df.filter([\"datetime\",\"Global_active_power\"],axis =1)\n",
    "copydf = t_df.filter([\"Global_active_power\"],axis=1)"
   ]
  },
  {
   "cell_type": "markdown",
   "metadata": {},
   "source": [
    "# Generating correlation matrix to find out the correlation between features."
   ]
  },
  {
   "cell_type": "code",
   "execution_count": 0,
   "metadata": {
    "colab": {
     "base_uri": "https://localhost:8080/",
     "height": 187
    },
    "colab_type": "code",
    "id": "YlmIwW34xJME",
    "outputId": "f31e7b18-1d35-4290-ac73-995ab06499f6"
   },
   "outputs": [
    {
     "data": {
      "text/html": [
       "<style  type=\"text/css\" >\n",
       "    #T_04e642b0_7287_11ea_9851_0242ac1c0002row0_col0 {\n",
       "            background-color:  #b40426;\n",
       "            color:  #f1f1f1;\n",
       "        }    #T_04e642b0_7287_11ea_9851_0242ac1c0002row0_col1 {\n",
       "            background-color:  #a6c4fe;\n",
       "            color:  #000000;\n",
       "        }    #T_04e642b0_7287_11ea_9851_0242ac1c0002row0_col2 {\n",
       "            background-color:  #3d50c3;\n",
       "            color:  #f1f1f1;\n",
       "        }    #T_04e642b0_7287_11ea_9851_0242ac1c0002row0_col3 {\n",
       "            background-color:  #b40426;\n",
       "            color:  #f1f1f1;\n",
       "        }    #T_04e642b0_7287_11ea_9851_0242ac1c0002row0_col4 {\n",
       "            background-color:  #edd2c3;\n",
       "            color:  #000000;\n",
       "        }    #T_04e642b0_7287_11ea_9851_0242ac1c0002row0_col5 {\n",
       "            background-color:  #e1dad6;\n",
       "            color:  #000000;\n",
       "        }    #T_04e642b0_7287_11ea_9851_0242ac1c0002row0_col6 {\n",
       "            background-color:  #f7a688;\n",
       "            color:  #000000;\n",
       "        }    #T_04e642b0_7287_11ea_9851_0242ac1c0002row1_col0 {\n",
       "            background-color:  #d3dbe7;\n",
       "            color:  #000000;\n",
       "        }    #T_04e642b0_7287_11ea_9851_0242ac1c0002row1_col1 {\n",
       "            background-color:  #b40426;\n",
       "            color:  #f1f1f1;\n",
       "        }    #T_04e642b0_7287_11ea_9851_0242ac1c0002row1_col2 {\n",
       "            background-color:  #80a3fa;\n",
       "            color:  #000000;\n",
       "        }    #T_04e642b0_7287_11ea_9851_0242ac1c0002row1_col3 {\n",
       "            background-color:  #d7dce3;\n",
       "            color:  #000000;\n",
       "        }    #T_04e642b0_7287_11ea_9851_0242ac1c0002row1_col4 {\n",
       "            background-color:  #93b5fe;\n",
       "            color:  #000000;\n",
       "        }    #T_04e642b0_7287_11ea_9851_0242ac1c0002row1_col5 {\n",
       "            background-color:  #92b4fe;\n",
       "            color:  #000000;\n",
       "        }    #T_04e642b0_7287_11ea_9851_0242ac1c0002row1_col6 {\n",
       "            background-color:  #98b9ff;\n",
       "            color:  #000000;\n",
       "        }    #T_04e642b0_7287_11ea_9851_0242ac1c0002row2_col0 {\n",
       "            background-color:  #3b4cc0;\n",
       "            color:  #f1f1f1;\n",
       "        }    #T_04e642b0_7287_11ea_9851_0242ac1c0002row2_col1 {\n",
       "            background-color:  #3b4cc0;\n",
       "            color:  #f1f1f1;\n",
       "        }    #T_04e642b0_7287_11ea_9851_0242ac1c0002row2_col2 {\n",
       "            background-color:  #b40426;\n",
       "            color:  #f1f1f1;\n",
       "        }    #T_04e642b0_7287_11ea_9851_0242ac1c0002row2_col3 {\n",
       "            background-color:  #3b4cc0;\n",
       "            color:  #f1f1f1;\n",
       "        }    #T_04e642b0_7287_11ea_9851_0242ac1c0002row2_col4 {\n",
       "            background-color:  #3b4cc0;\n",
       "            color:  #f1f1f1;\n",
       "        }    #T_04e642b0_7287_11ea_9851_0242ac1c0002row2_col5 {\n",
       "            background-color:  #3b4cc0;\n",
       "            color:  #f1f1f1;\n",
       "        }    #T_04e642b0_7287_11ea_9851_0242ac1c0002row2_col6 {\n",
       "            background-color:  #3b4cc0;\n",
       "            color:  #f1f1f1;\n",
       "        }    #T_04e642b0_7287_11ea_9851_0242ac1c0002row3_col0 {\n",
       "            background-color:  #b40426;\n",
       "            color:  #f1f1f1;\n",
       "        }    #T_04e642b0_7287_11ea_9851_0242ac1c0002row3_col1 {\n",
       "            background-color:  #adc9fd;\n",
       "            color:  #000000;\n",
       "        }    #T_04e642b0_7287_11ea_9851_0242ac1c0002row3_col2 {\n",
       "            background-color:  #3b4cc0;\n",
       "            color:  #f1f1f1;\n",
       "        }    #T_04e642b0_7287_11ea_9851_0242ac1c0002row3_col3 {\n",
       "            background-color:  #b40426;\n",
       "            color:  #f1f1f1;\n",
       "        }    #T_04e642b0_7287_11ea_9851_0242ac1c0002row3_col4 {\n",
       "            background-color:  #edd1c2;\n",
       "            color:  #000000;\n",
       "        }    #T_04e642b0_7287_11ea_9851_0242ac1c0002row3_col5 {\n",
       "            background-color:  #e2dad5;\n",
       "            color:  #000000;\n",
       "        }    #T_04e642b0_7287_11ea_9851_0242ac1c0002row3_col6 {\n",
       "            background-color:  #f7aa8c;\n",
       "            color:  #000000;\n",
       "        }    #T_04e642b0_7287_11ea_9851_0242ac1c0002row4_col0 {\n",
       "            background-color:  #f5c2aa;\n",
       "            color:  #000000;\n",
       "        }    #T_04e642b0_7287_11ea_9851_0242ac1c0002row4_col1 {\n",
       "            background-color:  #80a3fa;\n",
       "            color:  #000000;\n",
       "        }    #T_04e642b0_7287_11ea_9851_0242ac1c0002row4_col2 {\n",
       "            background-color:  #6b8df0;\n",
       "            color:  #000000;\n",
       "        }    #T_04e642b0_7287_11ea_9851_0242ac1c0002row4_col3 {\n",
       "            background-color:  #f5c0a7;\n",
       "            color:  #000000;\n",
       "        }    #T_04e642b0_7287_11ea_9851_0242ac1c0002row4_col4 {\n",
       "            background-color:  #b40426;\n",
       "            color:  #f1f1f1;\n",
       "        }    #T_04e642b0_7287_11ea_9851_0242ac1c0002row4_col5 {\n",
       "            background-color:  #779af7;\n",
       "            color:  #000000;\n",
       "        }    #T_04e642b0_7287_11ea_9851_0242ac1c0002row4_col6 {\n",
       "            background-color:  #9bbcff;\n",
       "            color:  #000000;\n",
       "        }    #T_04e642b0_7287_11ea_9851_0242ac1c0002row5_col0 {\n",
       "            background-color:  #f1ccb8;\n",
       "            color:  #000000;\n",
       "        }    #T_04e642b0_7287_11ea_9851_0242ac1c0002row5_col1 {\n",
       "            background-color:  #84a7fc;\n",
       "            color:  #000000;\n",
       "        }    #T_04e642b0_7287_11ea_9851_0242ac1c0002row5_col2 {\n",
       "            background-color:  #7295f4;\n",
       "            color:  #000000;\n",
       "        }    #T_04e642b0_7287_11ea_9851_0242ac1c0002row5_col3 {\n",
       "            background-color:  #f2cab5;\n",
       "            color:  #000000;\n",
       "        }    #T_04e642b0_7287_11ea_9851_0242ac1c0002row5_col4 {\n",
       "            background-color:  #7ea1fa;\n",
       "            color:  #000000;\n",
       "        }    #T_04e642b0_7287_11ea_9851_0242ac1c0002row5_col5 {\n",
       "            background-color:  #b40426;\n",
       "            color:  #f1f1f1;\n",
       "        }    #T_04e642b0_7287_11ea_9851_0242ac1c0002row5_col6 {\n",
       "            background-color:  #96b7ff;\n",
       "            color:  #000000;\n",
       "        }    #T_04e642b0_7287_11ea_9851_0242ac1c0002row6_col0 {\n",
       "            background-color:  #f59d7e;\n",
       "            color:  #000000;\n",
       "        }    #T_04e642b0_7287_11ea_9851_0242ac1c0002row6_col1 {\n",
       "            background-color:  #7597f6;\n",
       "            color:  #000000;\n",
       "        }    #T_04e642b0_7287_11ea_9851_0242ac1c0002row6_col2 {\n",
       "            background-color:  #5977e3;\n",
       "            color:  #000000;\n",
       "        }    #T_04e642b0_7287_11ea_9851_0242ac1c0002row6_col3 {\n",
       "            background-color:  #f59f80;\n",
       "            color:  #000000;\n",
       "        }    #T_04e642b0_7287_11ea_9851_0242ac1c0002row6_col4 {\n",
       "            background-color:  #8caffe;\n",
       "            color:  #000000;\n",
       "        }    #T_04e642b0_7287_11ea_9851_0242ac1c0002row6_col5 {\n",
       "            background-color:  #80a3fa;\n",
       "            color:  #000000;\n",
       "        }    #T_04e642b0_7287_11ea_9851_0242ac1c0002row6_col6 {\n",
       "            background-color:  #b40426;\n",
       "            color:  #f1f1f1;\n",
       "        }</style><table id=\"T_04e642b0_7287_11ea_9851_0242ac1c0002\" ><thead>    <tr>        <th class=\"blank level0\" ></th>        <th class=\"col_heading level0 col0\" >Global_active_power</th>        <th class=\"col_heading level0 col1\" >Global_reactive_power</th>        <th class=\"col_heading level0 col2\" >Voltage</th>        <th class=\"col_heading level0 col3\" >Global_intensity</th>        <th class=\"col_heading level0 col4\" >Sub_metering_1</th>        <th class=\"col_heading level0 col5\" >Sub_metering_2</th>        <th class=\"col_heading level0 col6\" >Sub_metering_3</th>    </tr></thead><tbody>\n",
       "                <tr>\n",
       "                        <th id=\"T_04e642b0_7287_11ea_9851_0242ac1c0002level0_row0\" class=\"row_heading level0 row0\" >Global_active_power</th>\n",
       "                        <td id=\"T_04e642b0_7287_11ea_9851_0242ac1c0002row0_col0\" class=\"data row0 col0\" >1</td>\n",
       "                        <td id=\"T_04e642b0_7287_11ea_9851_0242ac1c0002row0_col1\" class=\"data row0 col1\" >0.247017</td>\n",
       "                        <td id=\"T_04e642b0_7287_11ea_9851_0242ac1c0002row0_col2\" class=\"data row0 col2\" >-0.399762</td>\n",
       "                        <td id=\"T_04e642b0_7287_11ea_9851_0242ac1c0002row0_col3\" class=\"data row0 col3\" >0.998889</td>\n",
       "                        <td id=\"T_04e642b0_7287_11ea_9851_0242ac1c0002row0_col4\" class=\"data row0 col4\" >0.484401</td>\n",
       "                        <td id=\"T_04e642b0_7287_11ea_9851_0242ac1c0002row0_col5\" class=\"data row0 col5\" >0.434569</td>\n",
       "                        <td id=\"T_04e642b0_7287_11ea_9851_0242ac1c0002row0_col6\" class=\"data row0 col6\" >0.638555</td>\n",
       "            </tr>\n",
       "            <tr>\n",
       "                        <th id=\"T_04e642b0_7287_11ea_9851_0242ac1c0002level0_row1\" class=\"row_heading level0 row1\" >Global_reactive_power</th>\n",
       "                        <td id=\"T_04e642b0_7287_11ea_9851_0242ac1c0002row1_col0\" class=\"data row1 col0\" >0.247017</td>\n",
       "                        <td id=\"T_04e642b0_7287_11ea_9851_0242ac1c0002row1_col1\" class=\"data row1 col1\" >1</td>\n",
       "                        <td id=\"T_04e642b0_7287_11ea_9851_0242ac1c0002row1_col2\" class=\"data row1 col2\" >-0.112246</td>\n",
       "                        <td id=\"T_04e642b0_7287_11ea_9851_0242ac1c0002row1_col3\" class=\"data row1 col3\" >0.26612</td>\n",
       "                        <td id=\"T_04e642b0_7287_11ea_9851_0242ac1c0002row1_col4\" class=\"data row1 col4\" >0.123111</td>\n",
       "                        <td id=\"T_04e642b0_7287_11ea_9851_0242ac1c0002row1_col5\" class=\"data row1 col5\" >0.139231</td>\n",
       "                        <td id=\"T_04e642b0_7287_11ea_9851_0242ac1c0002row1_col6\" class=\"data row1 col6\" >0.0896165</td>\n",
       "            </tr>\n",
       "            <tr>\n",
       "                        <th id=\"T_04e642b0_7287_11ea_9851_0242ac1c0002level0_row2\" class=\"row_heading level0 row2\" >Voltage</th>\n",
       "                        <td id=\"T_04e642b0_7287_11ea_9851_0242ac1c0002row2_col0\" class=\"data row2 col0\" >-0.399762</td>\n",
       "                        <td id=\"T_04e642b0_7287_11ea_9851_0242ac1c0002row2_col1\" class=\"data row2 col1\" >-0.112246</td>\n",
       "                        <td id=\"T_04e642b0_7287_11ea_9851_0242ac1c0002row2_col2\" class=\"data row2 col2\" >1</td>\n",
       "                        <td id=\"T_04e642b0_7287_11ea_9851_0242ac1c0002row2_col3\" class=\"data row2 col3\" >-0.411363</td>\n",
       "                        <td id=\"T_04e642b0_7287_11ea_9851_0242ac1c0002row2_col4\" class=\"data row2 col4\" >-0.195976</td>\n",
       "                        <td id=\"T_04e642b0_7287_11ea_9851_0242ac1c0002row2_col5\" class=\"data row2 col5\" >-0.167405</td>\n",
       "                        <td id=\"T_04e642b0_7287_11ea_9851_0242ac1c0002row2_col6\" class=\"data row2 col6\" >-0.268172</td>\n",
       "            </tr>\n",
       "            <tr>\n",
       "                        <th id=\"T_04e642b0_7287_11ea_9851_0242ac1c0002level0_row3\" class=\"row_heading level0 row3\" >Global_intensity</th>\n",
       "                        <td id=\"T_04e642b0_7287_11ea_9851_0242ac1c0002row3_col0\" class=\"data row3 col0\" >0.998889</td>\n",
       "                        <td id=\"T_04e642b0_7287_11ea_9851_0242ac1c0002row3_col1\" class=\"data row3 col1\" >0.26612</td>\n",
       "                        <td id=\"T_04e642b0_7287_11ea_9851_0242ac1c0002row3_col2\" class=\"data row3 col2\" >-0.411363</td>\n",
       "                        <td id=\"T_04e642b0_7287_11ea_9851_0242ac1c0002row3_col3\" class=\"data row3 col3\" >1</td>\n",
       "                        <td id=\"T_04e642b0_7287_11ea_9851_0242ac1c0002row3_col4\" class=\"data row3 col4\" >0.489298</td>\n",
       "                        <td id=\"T_04e642b0_7287_11ea_9851_0242ac1c0002row3_col5\" class=\"data row3 col5\" >0.440347</td>\n",
       "                        <td id=\"T_04e642b0_7287_11ea_9851_0242ac1c0002row3_col6\" class=\"data row3 col6\" >0.626543</td>\n",
       "            </tr>\n",
       "            <tr>\n",
       "                        <th id=\"T_04e642b0_7287_11ea_9851_0242ac1c0002level0_row4\" class=\"row_heading level0 row4\" >Sub_metering_1</th>\n",
       "                        <td id=\"T_04e642b0_7287_11ea_9851_0242ac1c0002row4_col0\" class=\"data row4 col0\" >0.484401</td>\n",
       "                        <td id=\"T_04e642b0_7287_11ea_9851_0242ac1c0002row4_col1\" class=\"data row4 col1\" >0.123111</td>\n",
       "                        <td id=\"T_04e642b0_7287_11ea_9851_0242ac1c0002row4_col2\" class=\"data row4 col2\" >-0.195976</td>\n",
       "                        <td id=\"T_04e642b0_7287_11ea_9851_0242ac1c0002row4_col3\" class=\"data row4 col3\" >0.489298</td>\n",
       "                        <td id=\"T_04e642b0_7287_11ea_9851_0242ac1c0002row4_col4\" class=\"data row4 col4\" >1</td>\n",
       "                        <td id=\"T_04e642b0_7287_11ea_9851_0242ac1c0002row4_col5\" class=\"data row4 col5\" >0.0547209</td>\n",
       "                        <td id=\"T_04e642b0_7287_11ea_9851_0242ac1c0002row4_col6\" class=\"data row4 col6\" >0.102571</td>\n",
       "            </tr>\n",
       "            <tr>\n",
       "                        <th id=\"T_04e642b0_7287_11ea_9851_0242ac1c0002level0_row5\" class=\"row_heading level0 row5\" >Sub_metering_2</th>\n",
       "                        <td id=\"T_04e642b0_7287_11ea_9851_0242ac1c0002row5_col0\" class=\"data row5 col0\" >0.434569</td>\n",
       "                        <td id=\"T_04e642b0_7287_11ea_9851_0242ac1c0002row5_col1\" class=\"data row5 col1\" >0.139231</td>\n",
       "                        <td id=\"T_04e642b0_7287_11ea_9851_0242ac1c0002row5_col2\" class=\"data row5 col2\" >-0.167405</td>\n",
       "                        <td id=\"T_04e642b0_7287_11ea_9851_0242ac1c0002row5_col3\" class=\"data row5 col3\" >0.440347</td>\n",
       "                        <td id=\"T_04e642b0_7287_11ea_9851_0242ac1c0002row5_col4\" class=\"data row5 col4\" >0.0547209</td>\n",
       "                        <td id=\"T_04e642b0_7287_11ea_9851_0242ac1c0002row5_col5\" class=\"data row5 col5\" >1</td>\n",
       "                        <td id=\"T_04e642b0_7287_11ea_9851_0242ac1c0002row5_col6\" class=\"data row5 col6\" >0.080872</td>\n",
       "            </tr>\n",
       "            <tr>\n",
       "                        <th id=\"T_04e642b0_7287_11ea_9851_0242ac1c0002level0_row6\" class=\"row_heading level0 row6\" >Sub_metering_3</th>\n",
       "                        <td id=\"T_04e642b0_7287_11ea_9851_0242ac1c0002row6_col0\" class=\"data row6 col0\" >0.638555</td>\n",
       "                        <td id=\"T_04e642b0_7287_11ea_9851_0242ac1c0002row6_col1\" class=\"data row6 col1\" >0.0896165</td>\n",
       "                        <td id=\"T_04e642b0_7287_11ea_9851_0242ac1c0002row6_col2\" class=\"data row6 col2\" >-0.268172</td>\n",
       "                        <td id=\"T_04e642b0_7287_11ea_9851_0242ac1c0002row6_col3\" class=\"data row6 col3\" >0.626543</td>\n",
       "                        <td id=\"T_04e642b0_7287_11ea_9851_0242ac1c0002row6_col4\" class=\"data row6 col4\" >0.102571</td>\n",
       "                        <td id=\"T_04e642b0_7287_11ea_9851_0242ac1c0002row6_col5\" class=\"data row6 col5\" >0.080872</td>\n",
       "                        <td id=\"T_04e642b0_7287_11ea_9851_0242ac1c0002row6_col6\" class=\"data row6 col6\" >1</td>\n",
       "            </tr>\n",
       "    </tbody></table>"
      ],
      "text/plain": [
       "<pandas.io.formats.style.Styler at 0x7f9bbe1eee10>"
      ]
     },
     "execution_count": 6,
     "metadata": {
      "tags": []
     },
     "output_type": "execute_result"
    }
   ],
   "source": [
    "corr = whole_df.corr()\n",
    "corr.style.background_gradient(cmap='coolwarm')"
   ]
  },
  {
   "cell_type": "markdown",
   "metadata": {},
   "source": [
    "# Seperating the test data which is to be predicted by index"
   ]
  },
  {
   "cell_type": "code",
   "execution_count": 4,
   "metadata": {
    "colab": {},
    "colab_type": "code",
    "id": "UubLobiwxJMH"
   },
   "outputs": [],
   "source": [
    "test_index = list(copydf['Global_active_power'].index[copydf['Global_active_power'].apply(np.isnan)])\n",
    "test_index.sort()"
   ]
  },
  {
   "cell_type": "markdown",
   "metadata": {},
   "source": [
    "# A given univariate sequence into multiple samples where each sample has a specified number of time steps and the output is a single time step"
   ]
  },
  {
   "cell_type": "code",
   "execution_count": 5,
   "metadata": {
    "colab": {},
    "colab_type": "code",
    "id": "AoqIUusTxJMK"
   },
   "outputs": [],
   "source": [
    "def form_dataset(dataset,window_size):\n",
    "    new_dataset = []\n",
    "    new_label = []\n",
    "    length = len(dataset)\n",
    "    for i in range(length):\n",
    "        last_index = i + window_size\n",
    "        if(last_index > length-1):\n",
    "            break\n",
    "        temp_x = dataset[i:last_index]\n",
    "        temp_y = dataset[last_index]\n",
    "        new_dataset.append(temp_x)\n",
    "        new_label.append(temp_y)\n",
    "    return new_dataset, new_label"
   ]
  },
  {
   "cell_type": "markdown",
   "metadata": {},
   "source": [
    "# Filling the first window if there is any missing value with mean of the previous values of the missing value."
   ]
  },
  {
   "cell_type": "code",
   "execution_count": 6,
   "metadata": {
    "colab": {},
    "colab_type": "code",
    "id": "krt0G6onVD4a"
   },
   "outputs": [],
   "source": [
    "def fill_firstwindow(dataset,test_index,window_size):\n",
    "    pred_first_window = []\n",
    "    if(test_index[0] == 0):\n",
    "        dataset = dataset.remove(0)\n",
    "    cp_index = test_index.copy()\n",
    "    for i in cp_index:\n",
    "        if(i >= window_size):\n",
    "            break\n",
    "        test_index.remove(i)\n",
    "        mean = np.mean(np.array(dataset[:i]))\n",
    "        pred_first_window.append(mean)\n",
    "        dataset[i] = mean\n",
    "    return dataset, pred_first_window, test_index"
   ]
  },
  {
   "cell_type": "markdown",
   "metadata": {},
   "source": [
    "# Prediction of missing values."
   ]
  },
  {
   "cell_type": "code",
   "execution_count": 0,
   "metadata": {
    "colab": {},
    "colab_type": "code",
    "id": "HonEvLX9PHQ4"
   },
   "outputs": [],
   "source": [
    "pred = []\n",
    "for i in test_index[:10]:\n",
    "    t_dataset = np.array(copyset60[i-window_size:i])\n",
    "    temp1 = (t_dataset.reshape(1,window_size))\n",
    "    temp2 = (lr60.predict(temp1)).reshape(1)[0]\n",
    "    copyset60[i] = temp2"
   ]
  },
  {
   "cell_type": "markdown",
   "metadata": {},
   "source": [
    "# Calculating mean absolute percentage error"
   ]
  },
  {
   "cell_type": "code",
   "execution_count": 7,
   "metadata": {
    "colab": {},
    "colab_type": "code",
    "id": "r6R7IBFIxJMM"
   },
   "outputs": [],
   "source": [
    "def mean_absolute_percentage_error(y_true, y_pred): \n",
    "    return np.mean(np.abs((y_true - y_pred) / y_true)) * 100"
   ]
  },
  {
   "cell_type": "markdown",
   "metadata": {
    "colab_type": "text",
    "id": "H1CNuMzzxJMP"
   },
   "source": [
    "# Window size = 60"
   ]
  },
  {
   "cell_type": "code",
   "execution_count": 8,
   "metadata": {
    "colab": {},
    "colab_type": "code",
    "id": "sjkffWZuxJMP"
   },
   "outputs": [],
   "source": [
    "window_size = 60\n",
    "df60 = copydf.copy()"
   ]
  },
  {
   "cell_type": "markdown",
   "metadata": {},
   "source": [
    "# Preparing the test dataset of each of window size of 60."
   ]
  },
  {
   "cell_type": "code",
   "execution_count": 9,
   "metadata": {
    "colab": {},
    "colab_type": "code",
    "id": "OwbaWsAXxJMS"
   },
   "outputs": [],
   "source": [
    "dataset60 = list(df60[\"Global_active_power\"])\n",
    "# dataset60,pred1,test_index = fill_firstwindow(dataset60,test_index,window_size)\n",
    "# copyset60 = dataset60.copy()\n",
    "pre_xtrain, pre_ytrain = form_dataset(dataset60,window_size)\n",
    "xtest60 = []\n",
    "for i in test_index:\n",
    "    xtest60.append(pre_xtrain[i-window_size])"
   ]
  },
  {
   "cell_type": "code",
   "execution_count": 0,
   "metadata": {
    "colab": {},
    "colab_type": "code",
    "id": "uygjaeA3xJMU"
   },
   "outputs": [],
   "source": [
    "df60 = df60.dropna(subset=[\"Global_active_power\"])"
   ]
  },
  {
   "cell_type": "markdown",
   "metadata": {},
   "source": [
    "# Splitting the data into training data and validation data."
   ]
  },
  {
   "cell_type": "code",
   "execution_count": 0,
   "metadata": {
    "colab": {},
    "colab_type": "code",
    "id": "dP_tSlc9xJMW"
   },
   "outputs": [],
   "source": [
    "dataset60 = list(df60[\"Global_active_power\"])\n",
    "pre_xtrain60, pre_ytrain60 = form_dataset(dataset60,window_size)\n",
    "fraction60 = int(0.8 * (len(pre_xtrain60)))\n",
    "xtrain60 = pre_xtrain60[:fraction60]\n",
    "xvalid60 = pre_xtrain60[fraction60:len(pre_xtrain60)]\n",
    "ytrain60 = pre_ytrain60[:fraction60]\n",
    "yvalid60 = pre_ytrain60[fraction60:len(pre_xtrain60)]"
   ]
  },
  {
   "cell_type": "code",
   "execution_count": 0,
   "metadata": {
    "colab": {},
    "colab_type": "code",
    "id": "8xEd1-DdxJMZ"
   },
   "outputs": [],
   "source": [
    "xtrain60 = np.array(xtrain60)\n",
    "xvalid60 = np.array(xvalid60)\n",
    "ytrain60 = np.array(ytrain60)\n",
    "yvalid60 = np.array(yvalid60)"
   ]
  },
  {
   "cell_type": "markdown",
   "metadata": {},
   "source": [
    "# Experiment 1:- The model using Linear regression of window size 60."
   ]
  },
  {
   "cell_type": "code",
   "execution_count": 0,
   "metadata": {
    "colab": {},
    "colab_type": "code",
    "id": "8FWvVWwfxJMd"
   },
   "outputs": [],
   "source": [
    "lr60 = LinearRegression(fit_intercept=False)\n",
    "lr60 = lr60.fit(xtrain60, ytrain60)\n",
    "ypred60 = lr60.predict(xvalid60)"
   ]
  },
  {
   "cell_type": "markdown",
   "metadata": {},
   "source": [
    "# R2Score on the validation set"
   ]
  },
  {
   "cell_type": "code",
   "execution_count": 250,
   "metadata": {
    "colab": {
     "base_uri": "https://localhost:8080/",
     "height": 34
    },
    "colab_type": "code",
    "id": "M0UazWyJxJMf",
    "outputId": "14af2b6c-1266-4e96-d905-73a56c535784"
   },
   "outputs": [
    {
     "data": {
      "text/plain": [
       "0.939163062012902"
      ]
     },
     "execution_count": 250,
     "metadata": {
      "tags": []
     },
     "output_type": "execute_result"
    }
   ],
   "source": [
    "r2score60 = r2_score(yvalid60, ypred60)\n",
    "r2score60"
   ]
  },
  {
   "cell_type": "markdown",
   "metadata": {},
   "source": [
    "# Root mean squared error on validation set"
   ]
  },
  {
   "cell_type": "code",
   "execution_count": 251,
   "metadata": {
    "colab": {
     "base_uri": "https://localhost:8080/",
     "height": 34
    },
    "colab_type": "code",
    "id": "5Cmc8QMIxJMh",
    "outputId": "a0a9974f-47cb-4b9b-e963-898d40907845"
   },
   "outputs": [
    {
     "data": {
      "text/plain": [
       "0.2210054279867361"
      ]
     },
     "execution_count": 251,
     "metadata": {
      "tags": []
     },
     "output_type": "execute_result"
    }
   ],
   "source": [
    "rmse60 = sqrt(mean_squared_error(yvalid60, ypred60))\n",
    "rmse60"
   ]
  },
  {
   "cell_type": "markdown",
   "metadata": {},
   "source": [
    "# Mean absolute percentage error on validation set"
   ]
  },
  {
   "cell_type": "code",
   "execution_count": 252,
   "metadata": {
    "colab": {
     "base_uri": "https://localhost:8080/",
     "height": 34
    },
    "colab_type": "code",
    "id": "P12DJ9zsxJMk",
    "outputId": "76136271-3a06-46f7-d75e-ee16d11438ec"
   },
   "outputs": [
    {
     "data": {
      "text/plain": [
       "9.097724829563784"
      ]
     },
     "execution_count": 252,
     "metadata": {
      "tags": []
     },
     "output_type": "execute_result"
    }
   ],
   "source": [
    "yv60 = yvalid60.reshape(-1,1)\n",
    "yp60 = ypred60.reshape(-1,1)\n",
    "mape60 = mean_absolute_percentage_error(yv60,yp60)\n",
    "mape60"
   ]
  },
  {
   "cell_type": "markdown",
   "metadata": {
    "colab_type": "text",
    "id": "4gANOQzqxJMm"
   },
   "source": [
    "# Window Size = 120"
   ]
  },
  {
   "cell_type": "code",
   "execution_count": 0,
   "metadata": {
    "colab": {},
    "colab_type": "code",
    "id": "hZrDDSkjxJMm"
   },
   "outputs": [],
   "source": [
    "window_size = 120\n",
    "df120 = copydf"
   ]
  },
  {
   "cell_type": "markdown",
   "metadata": {},
   "source": [
    "# Preparing the test dataset of each of window size of 120."
   ]
  },
  {
   "cell_type": "code",
   "execution_count": 0,
   "metadata": {
    "colab": {},
    "colab_type": "code",
    "id": "6w4W84RCxJMp"
   },
   "outputs": [],
   "source": [
    "dataset120 = list(df120[\"Global_active_power\"])\n",
    "pre_xtrain, pre_ytrain = form_dataset(dataset120,window_size)\n",
    "xtest120 = []\n",
    "for i in test_index:\n",
    "    xtest120.append(pre_xtrain[i-window_size])"
   ]
  },
  {
   "cell_type": "code",
   "execution_count": 0,
   "metadata": {
    "colab": {},
    "colab_type": "code",
    "id": "V83Os5r0xJMr"
   },
   "outputs": [],
   "source": [
    "df120 = df120.dropna(subset=[\"Global_active_power\"])"
   ]
  },
  {
   "cell_type": "markdown",
   "metadata": {},
   "source": [
    "# Splitting the data into training data and validation data.\n"
   ]
  },
  {
   "cell_type": "code",
   "execution_count": 0,
   "metadata": {
    "colab": {},
    "colab_type": "code",
    "id": "ozjSvXEkxJMt"
   },
   "outputs": [],
   "source": [
    "dataset120 = list(df120[\"Global_active_power\"])\n",
    "pre_xtrain120, pre_ytrain120 = form_dataset(dataset120,window_size)\n",
    "fraction120 = int(0.8 * (len(pre_xtrain120)))\n",
    "xtrain120 = pre_xtrain120[:fraction120]\n",
    "xvalid120 = pre_xtrain120[fraction120:len(pre_xtrain120)]\n",
    "ytrain120 = pre_ytrain120[:fraction120]\n",
    "yvalid120 = pre_ytrain120[fraction120:len(pre_xtrain120)]"
   ]
  },
  {
   "cell_type": "code",
   "execution_count": 0,
   "metadata": {
    "colab": {},
    "colab_type": "code",
    "id": "bXSbexX4xJMv"
   },
   "outputs": [],
   "source": [
    "xtrain120 = np.array(xtrain120)\n",
    "xvalid120 = np.array(xvalid120)\n",
    "ytrain120 = np.array(ytrain120)\n",
    "yvalid120 = np.array(yvalid120)"
   ]
  },
  {
   "cell_type": "markdown",
   "metadata": {},
   "source": [
    "# Experiment 2:- The model using Linear regression of window size 120."
   ]
  },
  {
   "cell_type": "code",
   "execution_count": 0,
   "metadata": {
    "colab": {},
    "colab_type": "code",
    "id": "pG--DV5RxJMx"
   },
   "outputs": [],
   "source": [
    "lr120 = LinearRegression(fit_intercept=False)\n",
    "lr120 = lr120.fit(xtrain120, ytrain120)\n",
    "ypred120 = lr120.predict(xvalid120)"
   ]
  },
  {
   "cell_type": "markdown",
   "metadata": {},
   "source": [
    "# R2Score on the validation set"
   ]
  },
  {
   "cell_type": "code",
   "execution_count": 0,
   "metadata": {
    "colab": {},
    "colab_type": "code",
    "id": "jd48NwGgxJMy",
    "outputId": "370a225c-135d-4138-c025-7a429aaf48d2"
   },
   "outputs": [
    {
     "data": {
      "text/plain": [
       "0.9393241694688419"
      ]
     },
     "execution_count": 37,
     "metadata": {
      "tags": []
     },
     "output_type": "execute_result"
    }
   ],
   "source": [
    "r2score120 = r2_score(yvalid120, ypred120)\n",
    "r2score120"
   ]
  },
  {
   "cell_type": "markdown",
   "metadata": {},
   "source": [
    "# Root mean squared error on validation set"
   ]
  },
  {
   "cell_type": "code",
   "execution_count": 0,
   "metadata": {
    "colab": {},
    "colab_type": "code",
    "id": "Jv3SGRCGxJM0",
    "outputId": "bee7c656-2f01-4453-f1da-7fc8a4aba375"
   },
   "outputs": [
    {
     "data": {
      "text/plain": [
       "0.220714164945173"
      ]
     },
     "execution_count": 38,
     "metadata": {
      "tags": []
     },
     "output_type": "execute_result"
    }
   ],
   "source": [
    "rmse120 = sqrt(mean_squared_error(yvalid120, ypred120))\n",
    "rmse120"
   ]
  },
  {
   "cell_type": "markdown",
   "metadata": {},
   "source": [
    "# Mean absolute percentage error on validation set"
   ]
  },
  {
   "cell_type": "code",
   "execution_count": 0,
   "metadata": {
    "colab": {},
    "colab_type": "code",
    "id": "yDKTOUNQxJM3",
    "outputId": "02edd658-b931-4d61-8016-269d9bcd718d"
   },
   "outputs": [
    {
     "data": {
      "text/plain": [
       "9.285595430162703"
      ]
     },
     "execution_count": 39,
     "metadata": {
      "tags": []
     },
     "output_type": "execute_result"
    }
   ],
   "source": [
    "yv120 = yvalid120.reshape(-1,1)\n",
    "yp120 = ypred120.reshape(-1,1)\n",
    "mape120 = mean_absolute_percentage_error(yv120,yp120)\n",
    "mape120"
   ]
  },
  {
   "cell_type": "markdown",
   "metadata": {
    "colab_type": "text",
    "id": "oP3V6lrviON0"
   },
   "source": [
    "# Multi layer perceptron of window size 60"
   ]
  },
  {
   "cell_type": "code",
   "execution_count": 0,
   "metadata": {
    "colab": {},
    "colab_type": "code",
    "id": "vdZfWvC4icP9"
   },
   "outputs": [],
   "source": [
    "window_size = 60\n",
    "df60_mlp = copydf\n",
    "dataset60_mlp = list(df60_mlp[\"Global_active_power\"])\n",
    "pre_xtrain, pre_ytrain = form_dataset(dataset60_mlp,window_size)\n",
    "xtest60_mlp = []\n",
    "for i in test_index:\n",
    "    xtest60_mlp.append(pre_xtrain[i-window_size])\n",
    "df60_mlp = df60_mlp.dropna(subset=[\"Global_active_power\"])\n",
    "dataset60_mlp = list(df60_mlp[\"Global_active_power\"])\n",
    "pre_xtrain60_mlp, pre_ytrain60_mlp = form_dataset(dataset60_mlp,window_size)\n",
    "fraction60_mlp = int(0.8 * (len(pre_xtrain60_mlp)))\n",
    "xtrain60_mlp = pre_xtrain60_mlp[:fraction60_mlp]\n",
    "xvalid60_mlp = pre_xtrain60_mlp[fraction60_mlp:len(pre_xtrain60_mlp)]\n",
    "ytrain60_mlp = pre_ytrain60_mlp[:fraction60_mlp]\n",
    "yvalid60_mlp = pre_ytrain60_mlp[fraction60_mlp:len(pre_xtrain60_mlp)]\n",
    "xtrain60_mlp = np.array(xtrain60_mlp)\n",
    "xvalid60_mlp = np.array(xvalid60_mlp)\n",
    "ytrain60_mlp = np.array(ytrain60_mlp)\n",
    "yvalid60_mlp = np.array(yvalid60_mlp)"
   ]
  },
  {
   "cell_type": "markdown",
   "metadata": {
    "colab_type": "text",
    "id": "jpTr6peD95cl"
   },
   "source": [
    "# Experiment 3:- One hidden layer and one outlayer is used. ReLu activation function has been used in the hidden layer with input dimension of 60. The hidden layer and the output layer is connected densly. Stochastic gradient descent optimizer is used with learning rate 0.003 and momentum 0.9 and epoch is 10. Loss function mean squred error is used. Hidden layer is of 100 neurons and output layer has single neuron. Window size is 60."
   ]
  },
  {
   "cell_type": "code",
   "execution_count": 0,
   "metadata": {
    "colab": {
     "base_uri": "https://localhost:8080/",
     "height": 374
    },
    "colab_type": "code",
    "id": "Qcm6I20WjAds",
    "outputId": "4e2e558a-3c4a-4d36-f517-20d9d8448297"
   },
   "outputs": [
    {
     "name": "stdout",
     "output_type": "stream",
     "text": [
      "Epoch 1/10\n",
      "1639376/1639376 [==============================] - 56s 34us/step - loss: 0.0824\n",
      "Epoch 2/10\n",
      "1639376/1639376 [==============================] - 56s 34us/step - loss: 0.0794\n",
      "Epoch 3/10\n",
      "1639376/1639376 [==============================] - 57s 35us/step - loss: 0.0782\n",
      "Epoch 4/10\n",
      "1639376/1639376 [==============================] - 56s 34us/step - loss: 0.0767\n",
      "Epoch 5/10\n",
      "1639376/1639376 [==============================] - 56s 34us/step - loss: 0.0760\n",
      "Epoch 6/10\n",
      "1639376/1639376 [==============================] - 56s 34us/step - loss: 0.0756\n",
      "Epoch 7/10\n",
      "1639376/1639376 [==============================] - 56s 34us/step - loss: 0.0747\n",
      "Epoch 8/10\n",
      "1639376/1639376 [==============================] - 57s 35us/step - loss: 0.0741\n",
      "Epoch 9/10\n",
      "1639376/1639376 [==============================] - 56s 34us/step - loss: 0.0736\n",
      "Epoch 10/10\n",
      "1639376/1639376 [==============================] - 56s 34us/step - loss: 0.0734\n"
     ]
    },
    {
     "data": {
      "text/plain": [
       "<keras.callbacks.History at 0x7fb07ecdda90>"
      ]
     },
     "execution_count": 106,
     "metadata": {
      "tags": []
     },
     "output_type": "execute_result"
    }
   ],
   "source": [
    "model60_mlp_1 = Sequential()\n",
    "model60_mlp_1.add(Dense(100, activation='relu',input_dim=window_size))\n",
    "model60_mlp_1.add(Dense(1))\n",
    "optimizer = SGD(lr=0.003, momentum=0.9)\n",
    "model60_mlp_1.compile(optimizer=optimizer, loss='mse')\n",
    "model60_mlp_1.fit(xtrain60_mlp, ytrain60_mlp, epochs=10)"
   ]
  },
  {
   "cell_type": "markdown",
   "metadata": {},
   "source": [
    "# Prediction of validation set"
   ]
  },
  {
   "cell_type": "code",
   "execution_count": 0,
   "metadata": {
    "colab": {
     "base_uri": "https://localhost:8080/",
     "height": 34
    },
    "colab_type": "code",
    "id": "Mg6R7MJ1mtdO",
    "outputId": "7c44b6df-45af-4355-bfc0-92341df524dc"
   },
   "outputs": [
    {
     "name": "stderr",
     "output_type": "stream",
     "text": [
      "100%|██████████| 409844/409844 [04:12<00:00, 1622.06it/s]\n"
     ]
    }
   ],
   "source": [
    "ypred60_mlp_1 = []\n",
    "for i in tqdm(range(xvalid60_mlp.shape[0])):\n",
    "    temp1 = (xvalid60_mlp[i].reshape(1,window_size))\n",
    "    temp2 = (model60_mlp_1.predict(temp1)).reshape(1)[0]\n",
    "    ypred60_mlp_1.append(temp2)"
   ]
  },
  {
   "cell_type": "markdown",
   "metadata": {},
   "source": [
    "# Root mean squared error on validation set"
   ]
  },
  {
   "cell_type": "code",
   "execution_count": 0,
   "metadata": {
    "colab": {
     "base_uri": "https://localhost:8080/",
     "height": 34
    },
    "colab_type": "code",
    "id": "ma9tRKPgxgOa",
    "outputId": "e3ec89f7-425f-439e-f041-df3309d3b5c1"
   },
   "outputs": [
    {
     "data": {
      "text/plain": [
       "0.21956389321865233"
      ]
     },
     "execution_count": 108,
     "metadata": {
      "tags": []
     },
     "output_type": "execute_result"
    }
   ],
   "source": [
    "rmse60_mlp_1 = sqrt(mean_squared_error(yvalid60_mlp, ypred60_mlp_1))\n",
    "rmse60_mlp_1"
   ]
  },
  {
   "cell_type": "markdown",
   "metadata": {},
   "source": [
    "# R2score on validation set "
   ]
  },
  {
   "cell_type": "code",
   "execution_count": 0,
   "metadata": {
    "colab": {
     "base_uri": "https://localhost:8080/",
     "height": 34
    },
    "colab_type": "code",
    "id": "UKjLzC3zkM2u",
    "outputId": "fd5d225c-04db-4682-d747-d476cde034ee"
   },
   "outputs": [
    {
     "data": {
      "text/plain": [
       "0.9399541063761594"
      ]
     },
     "execution_count": 109,
     "metadata": {
      "tags": []
     },
     "output_type": "execute_result"
    }
   ],
   "source": [
    "r2score60_mlp_1 = r2_score(yvalid60_mlp, ypred60_mlp_1)\n",
    "r2score60_mlp_1"
   ]
  },
  {
   "cell_type": "markdown",
   "metadata": {},
   "source": [
    "# Mean absolute percentage error on validation"
   ]
  },
  {
   "cell_type": "code",
   "execution_count": 0,
   "metadata": {
    "colab": {
     "base_uri": "https://localhost:8080/",
     "height": 34
    },
    "colab_type": "code",
    "id": "0y4kIFsCmaKa",
    "outputId": "2e69602b-6f1d-4308-e527-bc1b32fba2b0"
   },
   "outputs": [
    {
     "data": {
      "text/plain": [
       "10.29135787493216"
      ]
     },
     "execution_count": 110,
     "metadata": {
      "tags": []
     },
     "output_type": "execute_result"
    }
   ],
   "source": [
    "arr_ypred60_mlp_1 = np.array(ypred60_mlp_1)\n",
    "yv60_mlp_1 = yvalid60_mlp.reshape(-1,1)\n",
    "yp60_mlp_1 = arr_ypred60_mlp_1.reshape(-1,1)\n",
    "mape60_mlp_1 = mean_absolute_percentage_error(yv60_mlp_1,yp60_mlp_1)\n",
    "mape60_mlp_1"
   ]
  },
  {
   "cell_type": "markdown",
   "metadata": {
    "colab_type": "text",
    "id": "HCWxnPIe8ihc"
   },
   "source": [
    "# Experiment 4:- Three hidden layers and one output layer is used. ReLu activation has been used in first two hidden layers. Sigmoid activation function has been used in the third hidden layer. There are 1000 neurons in the first hidden layer, 500 neurons in second hidden layer, 200 neurons in the third hidden layer and single neuron in the output layer. All the layers are densly connected. Stochastic gradient descent optimizer is used with learning rate 0.005 and momentum 0.7 and epoch is 10. Loss function mean squred error is used. Window size is 60."
   ]
  },
  {
   "cell_type": "code",
   "execution_count": 0,
   "metadata": {
    "colab": {
     "base_uri": "https://localhost:8080/",
     "height": 34
    },
    "colab_type": "code",
    "id": "7r6V4g5I9-K2",
    "outputId": "65fa4e11-91a7-4292-dfa4-5a72a6a141a4"
   },
   "outputs": [
    {
     "data": {
      "text/plain": [
       "<keras.callbacks.History at 0x7f0d237306d8>"
      ]
     },
     "execution_count": 10,
     "metadata": {
      "tags": []
     },
     "output_type": "execute_result"
    }
   ],
   "source": [
    "model60_mlp_2 = Sequential()\n",
    "model60_mlp_2.add(Dense(1000, activation='relu', input_dim = window_size))\n",
    "model60_mlp_2.add(Dense(500, activation='relu'))\n",
    "model60_mlp_2.add(Dense(200, activation ='sigmoid'))\n",
    "model60_mlp_2.add(Dense(1))\n",
    "optimizer = SGD(lr=0.005, momentum=0.7)\n",
    "model60_mlp_2.compile(optimizer=optimizer, loss='mse')\n",
    "model60_mlp_2.fit(xtrain60_mlp, ytrain60_mlp, epochs=10, verbose =0)"
   ]
  },
  {
   "cell_type": "markdown",
   "metadata": {},
   "source": [
    "# Prediction on validation set"
   ]
  },
  {
   "cell_type": "code",
   "execution_count": 0,
   "metadata": {
    "colab": {
     "base_uri": "https://localhost:8080/",
     "height": 34
    },
    "colab_type": "code",
    "id": "dBAdF6oH9-IY",
    "outputId": "7ebea6aa-3756-4681-8530-f35915856999"
   },
   "outputs": [
    {
     "name": "stderr",
     "output_type": "stream",
     "text": [
      "100%|██████████| 409844/409844 [05:12<00:00, 1313.55it/s]\n"
     ]
    }
   ],
   "source": [
    "ypred60_mlp_2 = []\n",
    "for i in tqdm(range(xvalid60_mlp.shape[0])):\n",
    "    temp1 = (xvalid60_mlp[i].reshape(1,window_size))\n",
    "    temp2 = (model60_mlp_2.predict(temp1)).reshape(1)[0]\n",
    "    ypred60_mlp_2.append(temp2)"
   ]
  },
  {
   "cell_type": "markdown",
   "metadata": {},
   "source": [
    "# Root mean squared error on validation set"
   ]
  },
  {
   "cell_type": "code",
   "execution_count": 0,
   "metadata": {
    "colab": {
     "base_uri": "https://localhost:8080/",
     "height": 34
    },
    "colab_type": "code",
    "id": "tp9QhBcc9-Fm",
    "outputId": "82307213-175f-421c-e881-77c64890e8a6"
   },
   "outputs": [
    {
     "data": {
      "text/plain": [
       "0.23210497908565997"
      ]
     },
     "execution_count": 12,
     "metadata": {
      "tags": []
     },
     "output_type": "execute_result"
    }
   ],
   "source": [
    "rmse60_mlp_2 = sqrt(mean_squared_error(yvalid60_mlp, ypred60_mlp_2))\n",
    "rmse60_mlp_2"
   ]
  },
  {
   "cell_type": "markdown",
   "metadata": {},
   "source": [
    "# R2score on validation set"
   ]
  },
  {
   "cell_type": "code",
   "execution_count": 0,
   "metadata": {
    "colab": {
     "base_uri": "https://localhost:8080/",
     "height": 34
    },
    "colab_type": "code",
    "id": "EQU6aAHn9-CB",
    "outputId": "03f1d784-4b62-439e-872d-6fadc3f09d84"
   },
   "outputs": [
    {
     "data": {
      "text/plain": [
       "0.9328987855139678"
      ]
     },
     "execution_count": 13,
     "metadata": {
      "tags": []
     },
     "output_type": "execute_result"
    }
   ],
   "source": [
    "r2score60_mlp_2 = r2_score(yvalid60_mlp, ypred60_mlp_2)\n",
    "r2score60_mlp_2"
   ]
  },
  {
   "cell_type": "markdown",
   "metadata": {},
   "source": [
    "# Mean absolute error on validation set"
   ]
  },
  {
   "cell_type": "code",
   "execution_count": 0,
   "metadata": {
    "colab": {
     "base_uri": "https://localhost:8080/",
     "height": 34
    },
    "colab_type": "code",
    "id": "bn564QrH99-y",
    "outputId": "f9c3a6ce-1623-41c6-a5f5-1df6b56eaed7"
   },
   "outputs": [
    {
     "data": {
      "text/plain": [
       "20.467525521011463"
      ]
     },
     "execution_count": 14,
     "metadata": {
      "tags": []
     },
     "output_type": "execute_result"
    }
   ],
   "source": [
    "arr_ypred60_mlp_2 = np.array(ypred60_mlp_2)\n",
    "yv60_mlp_2 = yvalid60_mlp.reshape(-1,1)\n",
    "yp60_mlp_2 = arr_ypred60_mlp_2.reshape(-1,1)\n",
    "mape60_mlp_2 = mean_absolute_percentage_error(yv60_mlp_2,yp60_mlp_2)\n",
    "mape60_mlp_2"
   ]
  },
  {
   "cell_type": "markdown",
   "metadata": {
    "colab_type": "text",
    "id": "clYaLeMf4il7"
   },
   "source": [
    "# Experiment 5:- Three hidden layers and one output layer is used. Tanh activation has been used in first two hidden layers. Sigmoid activation function has been used in the third hidden layer. There are 500 neurons in the first hidden layer, 200 neurons in second hidden layer, 100 neurons in the third hidden layer and single neuron in the output layer. All the layers are densly connected. Stochastic gradient descent optimizer is used with learning rate 0.01 and momentum 0.9 and epoch is 10. Loss function mean squred error is used. Window size is 60."
   ]
  },
  {
   "cell_type": "code",
   "execution_count": 0,
   "metadata": {
    "colab": {
     "base_uri": "https://localhost:8080/",
     "height": 374
    },
    "colab_type": "code",
    "id": "4rAbDI4H4knu",
    "outputId": "25318124-5fa7-4394-85a6-0535b90ca6d2"
   },
   "outputs": [
    {
     "name": "stdout",
     "output_type": "stream",
     "text": [
      "Epoch 1/10\n",
      "1639376/1639376 [==============================] - 147s 90us/step - loss: 0.0836\n",
      "Epoch 2/10\n",
      "1639376/1639376 [==============================] - 149s 91us/step - loss: 0.0765\n",
      "Epoch 3/10\n",
      "1639376/1639376 [==============================] - 150s 92us/step - loss: 0.0747\n",
      "Epoch 4/10\n",
      "1639376/1639376 [==============================] - 148s 90us/step - loss: 0.0734\n",
      "Epoch 5/10\n",
      "1639376/1639376 [==============================] - 145s 88us/step - loss: 0.0727\n",
      "Epoch 6/10\n",
      "1639376/1639376 [==============================] - 145s 89us/step - loss: 0.0717\n",
      "Epoch 7/10\n",
      "1639376/1639376 [==============================] - 144s 88us/step - loss: 0.0711\n",
      "Epoch 8/10\n",
      "1639376/1639376 [==============================] - 147s 90us/step - loss: 0.0710\n",
      "Epoch 9/10\n",
      "1639376/1639376 [==============================] - 144s 88us/step - loss: 0.0708\n",
      "Epoch 10/10\n",
      "1639376/1639376 [==============================] - 143s 87us/step - loss: 0.0709\n"
     ]
    },
    {
     "data": {
      "text/plain": [
       "<keras.callbacks.History at 0x7f977e0702e8>"
      ]
     },
     "execution_count": 10,
     "metadata": {
      "tags": []
     },
     "output_type": "execute_result"
    }
   ],
   "source": [
    "model60_mlp_3 = Sequential()\n",
    "model60_mlp_3.add(Dense(500, activation='tanh', input_dim = window_size))\n",
    "model60_mlp_3.add(Dense(200, activation='tanh'))\n",
    "model60_mlp_3.add(Dense(100, activation ='sigmoid'))\n",
    "model60_mlp_3.add(Dense(1))\n",
    "optimizer = SGD(lr=0.01, momentum=0.9)\n",
    "model60_mlp_3.compile(optimizer=optimizer, loss='mse')\n",
    "model60_mlp_3.fit(xtrain60_mlp, ytrain60_mlp, epochs=10, verbose=1)"
   ]
  },
  {
   "cell_type": "markdown",
   "metadata": {},
   "source": [
    "# Prediction on validation set "
   ]
  },
  {
   "cell_type": "code",
   "execution_count": 0,
   "metadata": {
    "colab": {
     "base_uri": "https://localhost:8080/",
     "height": 34
    },
    "colab_type": "code",
    "id": "mpoRlOVG4kkb",
    "outputId": "ae3998da-91b8-4d51-be17-a32e6bd8bb01"
   },
   "outputs": [
    {
     "name": "stderr",
     "output_type": "stream",
     "text": [
      "100%|██████████| 409844/409844 [04:08<00:00, 1650.73it/s]\n"
     ]
    }
   ],
   "source": [
    "ypred60_mlp_3 = []\n",
    "for i in tqdm(range(xvalid60_mlp.shape[0])):\n",
    "    temp1 = (xvalid60_mlp[i].reshape(1,window_size))\n",
    "    temp2 = (model60_mlp_3.predict(temp1)).reshape(1)[0]\n",
    "    ypred60_mlp_3.append(temp2)"
   ]
  },
  {
   "cell_type": "markdown",
   "metadata": {},
   "source": [
    "# Root mean squred error on validation set"
   ]
  },
  {
   "cell_type": "code",
   "execution_count": 0,
   "metadata": {
    "colab": {
     "base_uri": "https://localhost:8080/",
     "height": 34
    },
    "colab_type": "code",
    "id": "_BPrtQDf4khR",
    "outputId": "ec94eef1-1a66-459b-fb6c-85bbc993815d"
   },
   "outputs": [
    {
     "data": {
      "text/plain": [
       "0.2184594115901879"
      ]
     },
     "execution_count": 12,
     "metadata": {
      "tags": []
     },
     "output_type": "execute_result"
    }
   ],
   "source": [
    "rmse60_mlp_3 = sqrt(mean_squared_error(yvalid60_mlp, ypred60_mlp_3))\n",
    "rmse60_mlp_3"
   ]
  },
  {
   "cell_type": "markdown",
   "metadata": {},
   "source": [
    "# R2score on validation set"
   ]
  },
  {
   "cell_type": "code",
   "execution_count": 0,
   "metadata": {
    "colab": {
     "base_uri": "https://localhost:8080/",
     "height": 34
    },
    "colab_type": "code",
    "id": "M9dnKypM4keU",
    "outputId": "21df2576-1c65-4172-b7fe-cf2f5ca5b0dd"
   },
   "outputs": [
    {
     "data": {
      "text/plain": [
       "0.9405566897998614"
      ]
     },
     "execution_count": 13,
     "metadata": {
      "tags": []
     },
     "output_type": "execute_result"
    }
   ],
   "source": [
    "r2score60_mlp_3 = r2_score(yvalid60_mlp, ypred60_mlp_3)\n",
    "r2score60_mlp_3"
   ]
  },
  {
   "cell_type": "markdown",
   "metadata": {},
   "source": [
    "# Mean absolute percentage error on validation set"
   ]
  },
  {
   "cell_type": "code",
   "execution_count": 0,
   "metadata": {
    "colab": {
     "base_uri": "https://localhost:8080/",
     "height": 34
    },
    "colab_type": "code",
    "id": "nlZ_XQ0x4kbU",
    "outputId": "6fdd58ce-692d-4d04-8252-4fa0220f515f"
   },
   "outputs": [
    {
     "data": {
      "text/plain": [
       "10.723973980677123"
      ]
     },
     "execution_count": 14,
     "metadata": {
      "tags": []
     },
     "output_type": "execute_result"
    }
   ],
   "source": [
    "arr_ypred60_mlp_3 = np.array(ypred60_mlp_3)\n",
    "yv60_mlp_3 = yvalid60_mlp.reshape(-1,1)\n",
    "yp60_mlp_3 = arr_ypred60_mlp_3.reshape(-1,1)\n",
    "mape60_mlp_3 = mean_absolute_percentage_error(yv60_mlp_3,yp60_mlp_3)\n",
    "mape60_mlp_3"
   ]
  },
  {
   "cell_type": "markdown",
   "metadata": {
    "colab_type": "text",
    "id": "_5qvhy8REeuN"
   },
   "source": [
    "# Multi layer perceptron with window size 120"
   ]
  },
  {
   "cell_type": "code",
   "execution_count": 0,
   "metadata": {
    "colab": {},
    "colab_type": "code",
    "id": "SqDN6eSI4kX1"
   },
   "outputs": [],
   "source": [
    "window_size = 120\n",
    "df120_mlp = copydf\n",
    "dataset120_mlp = list(df120_mlp[\"Global_active_power\"])\n",
    "pre_xtrain, pre_ytrain = form_dataset(dataset120_mlp,window_size)\n",
    "xtest120_mlp = []\n",
    "for i in test_index:\n",
    "    xtest120_mlp.append(pre_xtrain[i-window_size])\n",
    "df120_mlp = df120_mlp.dropna(subset=[\"Global_active_power\"])\n",
    "dataset120_mlp = list(df120_mlp[\"Global_active_power\"])\n",
    "pre_xtrain120_mlp, pre_ytrain120_mlp = form_dataset(dataset120_mlp,window_size)\n",
    "fraction120_mlp = int(0.8 * (len(pre_xtrain120_mlp)))\n",
    "xtrain120_mlp = pre_xtrain120_mlp[:fraction120_mlp]\n",
    "xvalid120_mlp = pre_xtrain120_mlp[fraction120_mlp:len(pre_xtrain120_mlp)]\n",
    "ytrain120_mlp = pre_ytrain120_mlp[:fraction120_mlp]\n",
    "yvalid120_mlp = pre_ytrain120_mlp[fraction120_mlp:len(pre_xtrain120_mlp)]\n",
    "xtrain120_mlp = np.array(xtrain120_mlp)\n",
    "xvalid120_mlp = np.array(xvalid120_mlp)\n",
    "ytrain120_mlp = np.array(ytrain120_mlp)\n",
    "yvalid120_mlp = np.array(yvalid120_mlp)"
   ]
  },
  {
   "cell_type": "markdown",
   "metadata": {
    "colab_type": "text",
    "id": "c-b-LWj3Nmr4"
   },
   "source": [
    "# Experiment 6:- One hidden layer and one outlayer is used. ReLu activation function has been used in the hidden layer with input dimension of 60. The hidden layer and the output layer is connected densly. Stochastic gradient descent optimizer is used with learning rate 0.003 and momentum 0.9 and epoch is 10. Loss function mean squred error is used. Hidden layer is of 100 neurons and output layer has single neuron. Window size is 120."
   ]
  },
  {
   "cell_type": "code",
   "execution_count": 0,
   "metadata": {
    "colab": {
     "base_uri": "https://localhost:8080/",
     "height": 374
    },
    "colab_type": "code",
    "id": "IaTI4efy4kRP",
    "outputId": "447d39d0-7515-43cc-8b42-0dff4bc75608"
   },
   "outputs": [
    {
     "name": "stdout",
     "output_type": "stream",
     "text": [
      "Epoch 1/10\n",
      "1639328/1639328 [==============================] - 58s 36us/step - loss: 0.0872\n",
      "Epoch 2/10\n",
      "1639328/1639328 [==============================] - 57s 35us/step - loss: 0.0839\n",
      "Epoch 3/10\n",
      "1639328/1639328 [==============================] - 58s 35us/step - loss: 0.0826\n",
      "Epoch 4/10\n",
      "1639328/1639328 [==============================] - 58s 35us/step - loss: 0.0808\n",
      "Epoch 5/10\n",
      "1639328/1639328 [==============================] - 58s 35us/step - loss: 0.0792\n",
      "Epoch 6/10\n",
      "1639328/1639328 [==============================] - 58s 36us/step - loss: 0.0782\n",
      "Epoch 7/10\n",
      "1639328/1639328 [==============================] - 58s 35us/step - loss: 0.0774\n",
      "Epoch 8/10\n",
      "1639328/1639328 [==============================] - 58s 35us/step - loss: 0.0770\n",
      "Epoch 9/10\n",
      "1639328/1639328 [==============================] - 58s 35us/step - loss: 0.0765\n",
      "Epoch 10/10\n",
      "1639328/1639328 [==============================] - 58s 35us/step - loss: 0.0763\n"
     ]
    },
    {
     "data": {
      "text/plain": [
       "<keras.callbacks.History at 0x7f0db99d2940>"
      ]
     },
     "execution_count": 17,
     "metadata": {
      "tags": []
     },
     "output_type": "execute_result"
    }
   ],
   "source": [
    "model120_mlp_1 = Sequential()\n",
    "model120_mlp_1.add(Dense(100, activation='relu',input_dim=window_size))\n",
    "model120_mlp_1.add(Dense(1))\n",
    "optimizer = SGD(lr=0.003, momentum=0.9)\n",
    "model120_mlp_1.compile(optimizer=optimizer, loss='mse')\n",
    "model120_mlp_1.fit(xtrain120_mlp, ytrain120_mlp, epochs=10, verbose=1)"
   ]
  },
  {
   "cell_type": "markdown",
   "metadata": {},
   "source": [
    "# Prediction on validation set\n"
   ]
  },
  {
   "cell_type": "code",
   "execution_count": 0,
   "metadata": {
    "colab": {
     "base_uri": "https://localhost:8080/",
     "height": 34
    },
    "colab_type": "code",
    "id": "WLMHe74KNwo8",
    "outputId": "a6e8de40-ddb0-41bb-a15d-57ed113b7032"
   },
   "outputs": [
    {
     "name": "stderr",
     "output_type": "stream",
     "text": [
      "100%|██████████| 409832/409832 [04:07<00:00, 1654.24it/s]\n"
     ]
    }
   ],
   "source": [
    "ypred120_mlp_1 = []\n",
    "for i in tqdm(range(xvalid120_mlp.shape[0])):\n",
    "    temp1 = (xvalid120_mlp[i].reshape(1,window_size))\n",
    "    temp2 = (model120_mlp_1.predict(temp1)).reshape(1)[0]\n",
    "    ypred120_mlp_1.append(temp2)"
   ]
  },
  {
   "cell_type": "markdown",
   "metadata": {},
   "source": [
    "# Root mean squared error on validation set"
   ]
  },
  {
   "cell_type": "code",
   "execution_count": 0,
   "metadata": {
    "colab": {
     "base_uri": "https://localhost:8080/",
     "height": 34
    },
    "colab_type": "code",
    "id": "T8IHhF_iNwnV",
    "outputId": "5b925b32-17f1-4643-9d7c-164ec6c93e66"
   },
   "outputs": [
    {
     "data": {
      "text/plain": [
       "0.22120759768793463"
      ]
     },
     "execution_count": 19,
     "metadata": {
      "tags": []
     },
     "output_type": "execute_result"
    }
   ],
   "source": [
    "rmse120_mlp_1 = sqrt(mean_squared_error(yvalid120_mlp, ypred120_mlp_1))\n",
    "rmse120_mlp_1"
   ]
  },
  {
   "cell_type": "markdown",
   "metadata": {},
   "source": [
    "# R2score on validation set"
   ]
  },
  {
   "cell_type": "code",
   "execution_count": 0,
   "metadata": {
    "colab": {
     "base_uri": "https://localhost:8080/",
     "height": 34
    },
    "colab_type": "code",
    "id": "BJ1GLbbxNwjO",
    "outputId": "b87e0df0-6f89-4781-9ba7-c0406ae5d5cd"
   },
   "outputs": [
    {
     "data": {
      "text/plain": [
       "0.9390525701532718"
      ]
     },
     "execution_count": 20,
     "metadata": {
      "tags": []
     },
     "output_type": "execute_result"
    }
   ],
   "source": [
    "r2score120_mlp_1 = r2_score(yvalid120_mlp, ypred120_mlp_1)\n",
    "r2score120_mlp_1"
   ]
  },
  {
   "cell_type": "markdown",
   "metadata": {},
   "source": [
    "# Mean Absolute error on validation set"
   ]
  },
  {
   "cell_type": "code",
   "execution_count": 0,
   "metadata": {
    "colab": {
     "base_uri": "https://localhost:8080/",
     "height": 34
    },
    "colab_type": "code",
    "id": "K2iHg7VvNwgV",
    "outputId": "04db643e-6af4-4317-9449-f8d839102c06"
   },
   "outputs": [
    {
     "data": {
      "text/plain": [
       "10.142149633248108"
      ]
     },
     "execution_count": 21,
     "metadata": {
      "tags": []
     },
     "output_type": "execute_result"
    }
   ],
   "source": [
    "arr_ypred120_mlp_1 = np.array(ypred120_mlp_1)\n",
    "yv120_mlp_1 = yvalid120_mlp.reshape(-1,1)\n",
    "yp120_mlp_1 = arr_ypred120_mlp_1.reshape(-1,1)\n",
    "mape120_mlp_1 = mean_absolute_percentage_error(yv120_mlp_1,yp120_mlp_1)\n",
    "mape120_mlp_1"
   ]
  },
  {
   "cell_type": "markdown",
   "metadata": {
    "colab_type": "text",
    "id": "UWgL9hqeOq8m"
   },
   "source": [
    "# Experiment 7:- Three hidden layers and one output layer is used. ReLu activation has been used in first two hidden layers. Sigmoid activation function has been used in the third hidden layer. There are 1000 neurons in the first hidden layer, 500 neurons in second hidden layer, 200 neurons in the third hidden layer and single neuron in the output layer. All the layers are densly connected. Stochastic gradient descent optimizer is used with learning rate 0.005 and momentum 0.7 and epoch is 10. Loss function mean squred error is used. Window size is 120."
   ]
  },
  {
   "cell_type": "code",
   "execution_count": 0,
   "metadata": {
    "colab": {
     "base_uri": "https://localhost:8080/",
     "height": 374
    },
    "colab_type": "code",
    "id": "GbJ6_EBoNwaW",
    "outputId": "dea0d1ff-589e-4f43-c118-feafa60d2246"
   },
   "outputs": [
    {
     "name": "stdout",
     "output_type": "stream",
     "text": [
      "Epoch 1/10\n",
      "1639328/1639328 [==============================] - 563s 343us/step - loss: 0.0821\n",
      "Epoch 2/10\n",
      "1639328/1639328 [==============================] - 567s 346us/step - loss: 0.0763\n",
      "Epoch 3/10\n",
      "1639328/1639328 [==============================] - 572s 349us/step - loss: 0.0748\n",
      "Epoch 4/10\n",
      "1639328/1639328 [==============================] - 572s 349us/step - loss: 0.0737\n",
      "Epoch 5/10\n",
      "1639328/1639328 [==============================] - 572s 349us/step - loss: 0.0727\n",
      "Epoch 6/10\n",
      "1639328/1639328 [==============================] - 575s 351us/step - loss: 0.0721\n",
      "Epoch 7/10\n",
      "1639328/1639328 [==============================] - 578s 352us/step - loss: 0.0714\n",
      "Epoch 8/10\n",
      "1639328/1639328 [==============================] - 601s 367us/step - loss: 0.0707\n",
      "Epoch 9/10\n",
      "1639328/1639328 [==============================] - 591s 360us/step - loss: 0.0701\n",
      "Epoch 10/10\n",
      "1639328/1639328 [==============================] - 580s 354us/step - loss: 0.0697\n"
     ]
    },
    {
     "data": {
      "text/plain": [
       "<keras.callbacks.History at 0x7f0db8010da0>"
      ]
     },
     "execution_count": 24,
     "metadata": {
      "tags": []
     },
     "output_type": "execute_result"
    }
   ],
   "source": [
    "model120_mlp_2 = Sequential()\n",
    "model120_mlp_2.add(Dense(1000, activation='relu', input_dim = window_size))\n",
    "model120_mlp_2.add(Dense(500, activation='relu'))\n",
    "model120_mlp_2.add(Dense(200, activation ='sigmoid'))\n",
    "model120_mlp_2.add(Dense(1))\n",
    "optimizer = SGD(lr=0.005, momentum=0.7)\n",
    "model120_mlp_2.compile(optimizer=optimizer, loss='mse')\n",
    "model120_mlp_2.fit(xtrain120_mlp, ytrain120_mlp, epochs=10, verbose=1)"
   ]
  },
  {
   "cell_type": "markdown",
   "metadata": {},
   "source": [
    "# Prediction on validation set\n"
   ]
  },
  {
   "cell_type": "code",
   "execution_count": 0,
   "metadata": {
    "colab": {
     "base_uri": "https://localhost:8080/",
     "height": 34
    },
    "colab_type": "code",
    "id": "2Jz1iF6EOuZs",
    "outputId": "38a0887a-b8c2-48bc-9404-34f7918e3c08"
   },
   "outputs": [
    {
     "name": "stderr",
     "output_type": "stream",
     "text": [
      "100%|██████████| 409832/409832 [05:31<00:00, 1234.89it/s]\n"
     ]
    }
   ],
   "source": [
    "\n",
    "ypred120_mlp_2 = []\n",
    "for i in tqdm(range(xvalid120_mlp.shape[0])):\n",
    "    temp1 = (xvalid120_mlp[i].reshape(1,window_size))\n",
    "    temp2 = (model120_mlp_2.predict(temp1)).reshape(1)[0]\n",
    "    ypred120_mlp_2.append(temp2)"
   ]
  },
  {
   "cell_type": "markdown",
   "metadata": {},
   "source": [
    "# Root mean squared error on validation set"
   ]
  },
  {
   "cell_type": "code",
   "execution_count": 0,
   "metadata": {
    "colab": {
     "base_uri": "https://localhost:8080/",
     "height": 34
    },
    "colab_type": "code",
    "id": "TaxKgjAMOuTE",
    "outputId": "1e609dab-fd44-4461-fada-6c9b86d3d3ce"
   },
   "outputs": [
    {
     "data": {
      "text/plain": [
       "0.21438090078325006"
      ]
     },
     "execution_count": 26,
     "metadata": {
      "tags": []
     },
     "output_type": "execute_result"
    }
   ],
   "source": [
    "rmse120_mlp_2 = sqrt(mean_squared_error(yvalid120_mlp, ypred120_mlp_2))\n",
    "rmse120_mlp_2"
   ]
  },
  {
   "cell_type": "markdown",
   "metadata": {},
   "source": [
    "# R2score on validation set"
   ]
  },
  {
   "cell_type": "code",
   "execution_count": 0,
   "metadata": {
    "colab": {
     "base_uri": "https://localhost:8080/",
     "height": 34
    },
    "colab_type": "code",
    "id": "3Bh7NscuOuQU",
    "outputId": "65a9ed7b-a1d8-4803-ef30-837810351e56"
   },
   "outputs": [
    {
     "data": {
      "text/plain": [
       "0.9427563259360379"
      ]
     },
     "execution_count": 27,
     "metadata": {
      "tags": []
     },
     "output_type": "execute_result"
    }
   ],
   "source": [
    "r2score120_mlp_2 = r2_score(yvalid120_mlp, ypred120_mlp_2)\n",
    "r2score120_mlp_2"
   ]
  },
  {
   "cell_type": "markdown",
   "metadata": {},
   "source": [
    "# Mean abslute percentage error on validation set"
   ]
  },
  {
   "cell_type": "code",
   "execution_count": 0,
   "metadata": {
    "colab": {
     "base_uri": "https://localhost:8080/",
     "height": 34
    },
    "colab_type": "code",
    "id": "fU-X6UHpOuM1",
    "outputId": "bdcf3207-53cb-4ca2-b3a5-45829617cd2b"
   },
   "outputs": [
    {
     "data": {
      "text/plain": [
       "11.88265276965425"
      ]
     },
     "execution_count": 28,
     "metadata": {
      "tags": []
     },
     "output_type": "execute_result"
    }
   ],
   "source": [
    "arr_ypred120_mlp_2 = np.array(ypred120_mlp_2)\n",
    "yv120_mlp_2 = yvalid120_mlp.reshape(-1,1)\n",
    "yp120_mlp_2 = arr_ypred120_mlp_2.reshape(-1,1)\n",
    "mape120_mlp_2 = mean_absolute_percentage_error(yv120_mlp_2,yp120_mlp_2)\n",
    "mape120_mlp_2"
   ]
  },
  {
   "cell_type": "markdown",
   "metadata": {
    "colab_type": "text",
    "id": "EoMqh01fO1Tx"
   },
   "source": [
    "# Experiment 8:- Three hidden layers and one output layer is used. Tanh activation has been used in first two hidden layers. Sigmoid activation function has been used in the third hidden layer. There are 500 neurons in the first hidden layer, 200 neurons in second hidden layer, 100 neurons in the third hidden layer and single neuron in the output layer. All the layers are densly connected. Stochastic gradient descent optimizer is used with learning rate 0.01 and momentum 0.9 and epoch is 10. Loss function mean squred error is used. Window size is 120.\n"
   ]
  },
  {
   "cell_type": "code",
   "execution_count": 0,
   "metadata": {
    "colab": {
     "base_uri": "https://localhost:8080/",
     "height": 374
    },
    "colab_type": "code",
    "id": "RN1bOX8wOuJ9",
    "outputId": "6c9e8d29-be80-4ed4-a1cc-29504a41f07b"
   },
   "outputs": [
    {
     "name": "stdout",
     "output_type": "stream",
     "text": [
      "Epoch 1/10\n",
      "1639328/1639328 [==============================] - 189s 116us/step - loss: 0.0907\n",
      "Epoch 2/10\n",
      "1639328/1639328 [==============================] - 178s 108us/step - loss: 0.1062\n",
      "Epoch 3/10\n",
      "1639328/1639328 [==============================] - 175s 107us/step - loss: 0.1435\n",
      "Epoch 4/10\n",
      "1639328/1639328 [==============================] - 170s 104us/step - loss: 0.1359\n",
      "Epoch 5/10\n",
      "1639328/1639328 [==============================] - 170s 104us/step - loss: 0.1183\n",
      "Epoch 6/10\n",
      "1639328/1639328 [==============================] - 170s 104us/step - loss: 0.1128\n",
      "Epoch 7/10\n",
      "1639328/1639328 [==============================] - 169s 103us/step - loss: 0.1170\n",
      "Epoch 8/10\n",
      "1639328/1639328 [==============================] - 170s 104us/step - loss: 0.1780\n",
      "Epoch 9/10\n",
      "1639328/1639328 [==============================] - 172s 105us/step - loss: 0.1877\n",
      "Epoch 10/10\n",
      "1639328/1639328 [==============================] - 175s 107us/step - loss: 0.1638\n"
     ]
    },
    {
     "data": {
      "text/plain": [
       "<keras.callbacks.History at 0x7f0db7574550>"
      ]
     },
     "execution_count": 29,
     "metadata": {
      "tags": []
     },
     "output_type": "execute_result"
    }
   ],
   "source": [
    "model120_mlp_3 = Sequential()\n",
    "model120_mlp_3.add(Dense(500, activation='tanh', input_dim = window_size))\n",
    "model120_mlp_3.add(Dense(200, activation='tanh'))\n",
    "model120_mlp_3.add(Dense(100, activation ='sigmoid'))\n",
    "model120_mlp_3.add(Dense(1))\n",
    "optimizer = SGD(lr=0.01, momentum=0.9)\n",
    "model120_mlp_3.compile(optimizer=optimizer, loss='mse')\n",
    "model120_mlp_3.fit(xtrain120_mlp, ytrain120_mlp, epochs=10, verbose=1)"
   ]
  },
  {
   "cell_type": "markdown",
   "metadata": {},
   "source": [
    "# Prediction on validation set\n"
   ]
  },
  {
   "cell_type": "code",
   "execution_count": 0,
   "metadata": {
    "colab": {
     "base_uri": "https://localhost:8080/",
     "height": 34
    },
    "colab_type": "code",
    "id": "5P52Ujt6O3HT",
    "outputId": "d58bad5a-2c95-4638-99b0-411fdf3cd0b7"
   },
   "outputs": [
    {
     "name": "stderr",
     "output_type": "stream",
     "text": [
      "100%|██████████| 409832/409832 [04:51<00:00, 1404.81it/s]\n"
     ]
    }
   ],
   "source": [
    "ypred120_mlp_3 = []\n",
    "for i in tqdm(range(xvalid120_mlp.shape[0])):\n",
    "    temp1 = (xvalid120_mlp[i].reshape(1,window_size))\n",
    "    temp2 = (model120_mlp_3.predict(temp1)).reshape(1)[0]\n",
    "    ypred120_mlp_3.append(temp2)"
   ]
  },
  {
   "cell_type": "markdown",
   "metadata": {},
   "source": [
    "# Root mean squared error on validation set"
   ]
  },
  {
   "cell_type": "code",
   "execution_count": 0,
   "metadata": {
    "colab": {
     "base_uri": "https://localhost:8080/",
     "height": 34
    },
    "colab_type": "code",
    "id": "5zkiWxUoO2_g",
    "outputId": "27758af2-9c30-43d6-b736-f0a1aff11098"
   },
   "outputs": [
    {
     "data": {
      "text/plain": [
       "0.33799011048392225"
      ]
     },
     "execution_count": 31,
     "metadata": {
      "tags": []
     },
     "output_type": "execute_result"
    }
   ],
   "source": [
    "rmse120_mlp_3 = sqrt(mean_squared_error(yvalid120_mlp, ypred120_mlp_3))\n",
    "rmse120_mlp_3"
   ]
  },
  {
   "cell_type": "markdown",
   "metadata": {},
   "source": [
    "# R2score on validation set"
   ]
  },
  {
   "cell_type": "code",
   "execution_count": 0,
   "metadata": {
    "colab": {
     "base_uri": "https://localhost:8080/",
     "height": 34
    },
    "colab_type": "code",
    "id": "Re6a0MviO28F",
    "outputId": "a02601dd-98c4-44ef-d834-ab56a99282fd"
   },
   "outputs": [
    {
     "data": {
      "text/plain": [
       "0.8577136287451945"
      ]
     },
     "execution_count": 32,
     "metadata": {
      "tags": []
     },
     "output_type": "execute_result"
    }
   ],
   "source": [
    "r2score120_mlp_3 = r2_score(yvalid120_mlp, ypred120_mlp_3)\n",
    "r2score120_mlp_3"
   ]
  },
  {
   "cell_type": "markdown",
   "metadata": {},
   "source": [
    "# Mean absolute percentage error on validation set"
   ]
  },
  {
   "cell_type": "code",
   "execution_count": 0,
   "metadata": {
    "colab": {
     "base_uri": "https://localhost:8080/",
     "height": 34
    },
    "colab_type": "code",
    "id": "MH6rAH7BO24h",
    "outputId": "2337e7ed-f5b4-4640-c16c-8ad981d26e04"
   },
   "outputs": [
    {
     "data": {
      "text/plain": [
       "31.974084487858207"
      ]
     },
     "execution_count": 33,
     "metadata": {
      "tags": []
     },
     "output_type": "execute_result"
    }
   ],
   "source": [
    "arr_ypred120_mlp_3 = np.array(ypred120_mlp_3)\n",
    "yv120_mlp_3 = yvalid120_mlp.reshape(-1,1)\n",
    "yp120_mlp_3 = arr_ypred120_mlp_3.reshape(-1,1)\n",
    "mape120_mlp_3 = mean_absolute_percentage_error(yv120_mlp_3,yp120_mlp_3)\n",
    "mape120_mlp_3"
   ]
  },
  {
   "cell_type": "markdown",
   "metadata": {
    "colab": {},
    "colab_type": "code",
    "id": "tiLmtpybO21h"
   },
   "source": [
    "# Summary : The best performing model is as three hidden layers and one output layer is used. ReLu activation has been used in first two hidden layers. Sigmoid activation function has been used in the third hidden layer. There are 1000 neurons in the first hidden layer, 500 neurons in second hidden layer, 200 neurons in the third hidden layer and single neuron in the output layer. All the layers are densly connected. Stochastic gradient descent optimizer is used with learning rate 0.005 and momentum 0.7 and epoch is 10. Loss function mean squred error is used. Window size is 120."
   ]
  },
  {
   "cell_type": "code",
   "execution_count": 0,
   "metadata": {
    "colab": {},
    "colab_type": "code",
    "id": "eZHOJvVlUEmj"
   },
   "outputs": [],
   "source": []
  }
 ],
 "metadata": {
  "colab": {
   "collapsed_sections": [],
   "name": "q4.ipynb",
   "provenance": [],
   "toc_visible": true
  },
  "kernelspec": {
   "display_name": "Python 3",
   "language": "python",
   "name": "python3"
  },
  "language_info": {
   "codemirror_mode": {
    "name": "ipython",
    "version": 3
   },
   "file_extension": ".py",
   "mimetype": "text/x-python",
   "name": "python",
   "nbconvert_exporter": "python",
   "pygments_lexer": "ipython3",
   "version": "3.7.4"
  }
 },
 "nbformat": 4,
 "nbformat_minor": 1
}
